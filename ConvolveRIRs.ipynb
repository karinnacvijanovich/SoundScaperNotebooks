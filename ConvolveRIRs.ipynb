{
 "cells": [
  {
   "cell_type": "code",
   "execution_count": 3,
   "id": "aba2d8ff-54bd-4385-b76f-f2d50e0cb742",
   "metadata": {},
   "outputs": [
    {
     "name": "stdout",
     "output_type": "stream",
     "text": [
      "Starting create_srir_sofa function\n",
      "Shapes: M=573, R=4, N=71231, E=1, I=1, C=3\n",
      "Checking if file exists: datasets/rir_datasets/spatialscaper_RIRs/soundspaces_foa.sofa\n",
      "Overwriting datasets/rir_datasets/spatialscaper_RIRs/soundspaces_foa.sofa\n",
      "Creating Dataset\n",
      "Setting Required Attributes\n",
      "Creating Required Dimensions\n",
      "Creating Required Variables\n",
      "Creating ListenerPosition\n",
      "Creating ListenerUp\n",
      "Creating ListenerView\n",
      "Creating EmitterPosition\n",
      "Creating SourcePosition\n",
      "Creating SourceUp\n",
      "Creating SourceView\n",
      "Creating ReceiverPosition\n",
      "Creating Data.SamplingRate\n",
      "Creating Data.Delay\n",
      "Creating Data.IR\n",
      "Closing file\n",
      "SOFA file saved to datasets/rir_datasets/spatialscaper_RIRs/soundspaces_foa.sofa\n",
      "create_srir_sofa function completed\n"
     ]
    }
   ],
   "source": [
    "# !python scripts/prepare_rirs.py"
   ]
  },
  {
   "cell_type": "code",
   "execution_count": 20,
   "id": "8c5e31ca-0e16-4208-95e0-01b61c06bf75",
   "metadata": {},
   "outputs": [],
   "source": [
    "import pysofaconventions as sofa\n",
    "import numpy as np\n",
    "import os\n",
    "import spatialscaper as ss"
   ]
  },
  {
   "cell_type": "code",
   "execution_count": 21,
   "id": "14b195bd-b631-4c7f-ace4-89c2b5b0263e",
   "metadata": {
    "scrolled": true
   },
   "outputs": [
    {
     "name": "stdout",
     "output_type": "stream",
     "text": [
      "Generating soundscape: 1/20\n",
      "Number of events to add: 7\n",
      "Adding event 1/7\n",
      "Adding event 2/7\n",
      "Adding event 3/7\n",
      "Adding event 4/7\n",
      "Adding event 5/7\n",
      "Adding event 6/7\n",
      "Adding event 7/7\n",
      "Generating soundscape: 2/20\n",
      "Number of events to add: 9\n",
      "Adding event 1/9\n",
      "Adding event 2/9\n",
      "Adding event 3/9\n",
      "Adding event 4/9\n",
      "Adding event 5/9\n",
      "Adding event 6/9\n",
      "Adding event 7/9\n",
      "Adding event 8/9\n",
      "Adding event 9/9\n",
      "Generating soundscape: 3/20\n",
      "Number of events to add: 19\n",
      "Adding event 1/19\n",
      "Adding event 2/19\n",
      "Adding event 3/19\n",
      "Adding event 4/19\n",
      "Adding event 5/19\n",
      "Adding event 6/19\n",
      "Adding event 7/19\n",
      "Adding event 8/19\n",
      "Adding event 9/19\n",
      "Adding event 10/19\n",
      "Adding event 11/19\n",
      "Adding event 12/19\n",
      "Adding event 13/19\n",
      "Adding event 14/19\n",
      "Adding event 15/19\n",
      "Adding event 16/19\n",
      "Adding event 17/19\n",
      "Adding event 18/19\n",
      "Adding event 19/19\n"
     ]
    },
    {
     "name": "stderr",
     "output_type": "stream",
     "text": [
      "/home/bea/karinna/SpatialScaper/spatialscaper/core.py:307: UserWarning: Could not find a start time for sound event \"datasets/sound_event_datasets/FSD50K_FMA/domesticSounds/train/Mechanical_fan/17438.wav\" that satisfies max_event_overlap = 2. If this continues happening, you may want to consider adding less sound events to the scape or increasing max_event_overlap.\n",
      "  warnings.warn(\n",
      "/home/bea/karinna/SpatialScaper/spatialscaper/core.py:307: UserWarning: Could not find a start time for sound event \"datasets/sound_event_datasets/FSD50K_FMA/music/test/Hip-Hop/000694.mp3\" that satisfies max_event_overlap = 2. If this continues happening, you may want to consider adding less sound events to the scape or increasing max_event_overlap.\n",
      "  warnings.warn(\n"
     ]
    },
    {
     "name": "stdout",
     "output_type": "stream",
     "text": [
      "Generating soundscape: 4/20\n",
      "Number of events to add: 21\n",
      "Adding event 1/21\n",
      "Adding event 2/21\n",
      "Adding event 3/21\n",
      "Adding event 4/21\n",
      "Adding event 5/21\n",
      "Adding event 6/21\n",
      "Adding event 7/21\n",
      "Adding event 8/21\n",
      "Adding event 9/21\n",
      "Adding event 10/21\n",
      "Adding event 11/21\n",
      "Adding event 12/21\n",
      "Adding event 13/21\n",
      "Adding event 14/21\n",
      "Adding event 15/21\n",
      "Adding event 16/21\n",
      "Adding event 17/21\n",
      "Adding event 18/21\n",
      "Adding event 19/21\n",
      "Adding event 20/21\n"
     ]
    },
    {
     "name": "stderr",
     "output_type": "stream",
     "text": [
      "/home/bea/karinna/SpatialScaper/spatialscaper/core.py:307: UserWarning: Could not find a start time for sound event \"datasets/sound_event_datasets/FSD50K_FMA/bell/train/Chime/18925.wav\" that satisfies max_event_overlap = 2. If this continues happening, you may want to consider adding less sound events to the scape or increasing max_event_overlap.\n",
      "  warnings.warn(\n",
      "/home/bea/karinna/SpatialScaper/spatialscaper/core.py:307: UserWarning: Could not find a start time for sound event \"datasets/sound_event_datasets/FSD50K_FMA/telephone/train/Telephone_bell_ringing/79639.wav\" that satisfies max_event_overlap = 2. If this continues happening, you may want to consider adding less sound events to the scape or increasing max_event_overlap.\n",
      "  warnings.warn(\n",
      "/home/bea/karinna/SpatialScaper/spatialscaper/core.py:307: UserWarning: Could not find a start time for sound event \"datasets/sound_event_datasets/FSD50K_FMA/telephone/train/Telephone_bell_ringing/267199.wav\" that satisfies max_event_overlap = 2. If this continues happening, you may want to consider adding less sound events to the scape or increasing max_event_overlap.\n",
      "  warnings.warn(\n",
      "/home/bea/karinna/SpatialScaper/spatialscaper/core.py:307: UserWarning: Could not find a start time for sound event \"datasets/sound_event_datasets/FSD50K_FMA/waterTap/train/Water_tap_and_faucet/329588.wav\" that satisfies max_event_overlap = 2. If this continues happening, you may want to consider adding less sound events to the scape or increasing max_event_overlap.\n",
      "  warnings.warn(\n",
      "/home/bea/karinna/SpatialScaper/spatialscaper/core.py:307: UserWarning: Could not find a start time for sound event \"datasets/sound_event_datasets/FSD50K_FMA/telephone/test/Telephone_bell_ringing/54277.wav\" that satisfies max_event_overlap = 2. If this continues happening, you may want to consider adding less sound events to the scape or increasing max_event_overlap.\n",
      "  warnings.warn(\n"
     ]
    },
    {
     "name": "stdout",
     "output_type": "stream",
     "text": [
      "Adding event 21/21\n"
     ]
    },
    {
     "name": "stderr",
     "output_type": "stream",
     "text": [
      "/home/bea/karinna/SpatialScaper/spatialscaper/core.py:307: UserWarning: Could not find a start time for sound event \"datasets/sound_event_datasets/FSD50K_FMA/domesticSounds/test/Mechanical_fan/271658.wav\" that satisfies max_event_overlap = 2. If this continues happening, you may want to consider adding less sound events to the scape or increasing max_event_overlap.\n",
      "  warnings.warn(\n"
     ]
    },
    {
     "name": "stdout",
     "output_type": "stream",
     "text": [
      "Generating soundscape: 5/20\n",
      "Number of events to add: 12\n",
      "Adding event 1/12\n",
      "Adding event 2/12\n",
      "Adding event 3/12\n",
      "Adding event 4/12\n",
      "Adding event 5/12\n",
      "Adding event 6/12\n",
      "Adding event 7/12\n",
      "Adding event 8/12\n",
      "Adding event 9/12\n",
      "Adding event 10/12\n",
      "Adding event 11/12\n",
      "Adding event 12/12\n",
      "Generating soundscape: 6/20\n",
      "Number of events to add: 10\n",
      "Adding event 1/10\n",
      "Adding event 2/10\n",
      "Adding event 3/10\n",
      "Adding event 4/10\n",
      "Adding event 5/10\n",
      "Adding event 6/10\n",
      "Adding event 7/10\n",
      "Adding event 8/10\n",
      "Adding event 9/10\n",
      "Adding event 10/10\n",
      "Generating soundscape: 7/20\n",
      "Number of events to add: 20\n",
      "Adding event 1/20\n",
      "Adding event 2/20\n",
      "Adding event 3/20\n",
      "Adding event 4/20\n",
      "Adding event 5/20\n",
      "Adding event 6/20\n",
      "Adding event 7/20\n",
      "Adding event 8/20\n",
      "Adding event 9/20\n",
      "Adding event 10/20\n",
      "Adding event 11/20\n",
      "Adding event 12/20\n",
      "Adding event 13/20\n",
      "Adding event 14/20\n",
      "Adding event 15/20\n",
      "Adding event 16/20\n"
     ]
    },
    {
     "name": "stderr",
     "output_type": "stream",
     "text": [
      "/home/bea/karinna/SpatialScaper/spatialscaper/core.py:307: UserWarning: Could not find a start time for sound event \"datasets/sound_event_datasets/FSD50K_FMA/music/test/Rock/001040.mp3\" that satisfies max_event_overlap = 2. If this continues happening, you may want to consider adding less sound events to the scape or increasing max_event_overlap.\n",
      "  warnings.warn(\n",
      "/home/bea/karinna/SpatialScaper/spatialscaper/core.py:307: UserWarning: Could not find a start time for sound event \"datasets/sound_event_datasets/FSD50K_FMA/footsteps/train/Walk_and_footsteps/71925.wav\" that satisfies max_event_overlap = 2. If this continues happening, you may want to consider adding less sound events to the scape or increasing max_event_overlap.\n",
      "  warnings.warn(\n",
      "/home/bea/karinna/SpatialScaper/spatialscaper/core.py:307: UserWarning: Could not find a start time for sound event \"datasets/sound_event_datasets/FSD50K_FMA/telephone/train/Telephone_bell_ringing/77031.wav\" that satisfies max_event_overlap = 2. If this continues happening, you may want to consider adding less sound events to the scape or increasing max_event_overlap.\n",
      "  warnings.warn(\n",
      "/home/bea/karinna/SpatialScaper/spatialscaper/core.py:307: UserWarning: Could not find a start time for sound event \"datasets/sound_event_datasets/FSD50K_FMA/music/train/Folk/000625.mp3\" that satisfies max_event_overlap = 2. If this continues happening, you may want to consider adding less sound events to the scape or increasing max_event_overlap.\n",
      "  warnings.warn(\n",
      "/home/bea/karinna/SpatialScaper/spatialscaper/core.py:307: UserWarning: Could not find a start time for sound event \"datasets/sound_event_datasets/FSD50K_FMA/footsteps/train/Walk_and_footsteps/429802.wav\" that satisfies max_event_overlap = 2. If this continues happening, you may want to consider adding less sound events to the scape or increasing max_event_overlap.\n",
      "  warnings.warn(\n",
      "/home/bea/karinna/SpatialScaper/spatialscaper/core.py:307: UserWarning: Could not find a start time for sound event \"datasets/sound_event_datasets/FSD50K_FMA/waterTap/train/Water_tap_and_faucet/274036.wav\" that satisfies max_event_overlap = 2. If this continues happening, you may want to consider adding less sound events to the scape or increasing max_event_overlap.\n",
      "  warnings.warn(\n"
     ]
    },
    {
     "name": "stdout",
     "output_type": "stream",
     "text": [
      "Adding event 17/20\n",
      "Adding event 18/20\n",
      "Adding event 19/20\n",
      "Adding event 20/20\n"
     ]
    },
    {
     "name": "stderr",
     "output_type": "stream",
     "text": [
      "/home/bea/karinna/SpatialScaper/spatialscaper/core.py:307: UserWarning: Could not find a start time for sound event \"datasets/sound_event_datasets/FSD50K_FMA/footsteps/train/Walk_and_footsteps/365220.wav\" that satisfies max_event_overlap = 2. If this continues happening, you may want to consider adding less sound events to the scape or increasing max_event_overlap.\n",
      "  warnings.warn(\n",
      "/home/bea/karinna/SpatialScaper/spatialscaper/core.py:307: UserWarning: Could not find a start time for sound event \"datasets/sound_event_datasets/FSD50K_FMA/domesticSounds/train/Boiling/185711.wav\" that satisfies max_event_overlap = 2. If this continues happening, you may want to consider adding less sound events to the scape or increasing max_event_overlap.\n",
      "  warnings.warn(\n"
     ]
    },
    {
     "name": "stdout",
     "output_type": "stream",
     "text": [
      "Generating soundscape: 8/20\n",
      "Number of events to add: 12\n",
      "Adding event 1/12\n",
      "Adding event 2/12\n",
      "Adding event 3/12\n",
      "Adding event 4/12\n",
      "Adding event 5/12\n",
      "Adding event 6/12\n",
      "Adding event 7/12\n",
      "Adding event 8/12\n",
      "Adding event 9/12\n",
      "Adding event 10/12\n",
      "Adding event 11/12\n",
      "Adding event 12/12\n",
      "Generating soundscape: 9/20\n",
      "Number of events to add: 13\n",
      "Adding event 1/13\n",
      "Adding event 2/13\n",
      "Adding event 3/13\n",
      "Adding event 4/13\n",
      "Adding event 5/13\n",
      "Adding event 6/13\n",
      "Adding event 7/13\n",
      "Adding event 8/13\n",
      "Adding event 9/13\n",
      "Adding event 10/13\n",
      "Adding event 11/13\n",
      "Adding event 12/13\n",
      "Adding event 13/13\n",
      "Generating soundscape: 10/20\n",
      "Number of events to add: 17\n",
      "Adding event 1/17\n",
      "Adding event 2/17\n",
      "Adding event 3/17\n",
      "Adding event 4/17\n",
      "Adding event 5/17\n",
      "Adding event 6/17\n",
      "Adding event 7/17\n",
      "Adding event 8/17\n",
      "Adding event 9/17\n",
      "Adding event 10/17\n",
      "Adding event 11/17\n",
      "Adding event 12/17\n",
      "Adding event 13/17\n",
      "Adding event 14/17\n",
      "Adding event 15/17\n",
      "Adding event 16/17\n",
      "Adding event 17/17\n"
     ]
    },
    {
     "name": "stderr",
     "output_type": "stream",
     "text": [
      "/home/bea/karinna/SpatialScaper/spatialscaper/core.py:307: UserWarning: Could not find a start time for sound event \"datasets/sound_event_datasets/FSD50K_FMA/maleSpeech/test/Male_speech_and_man_speaking/87687.wav\" that satisfies max_event_overlap = 2. If this continues happening, you may want to consider adding less sound events to the scape or increasing max_event_overlap.\n",
      "  warnings.warn(\n",
      "/home/bea/karinna/SpatialScaper/spatialscaper/core.py:307: UserWarning: Could not find a start time for sound event \"datasets/sound_event_datasets/FSD50K_FMA/music/test/Pop/001663.mp3\" that satisfies max_event_overlap = 2. If this continues happening, you may want to consider adding less sound events to the scape or increasing max_event_overlap.\n",
      "  warnings.warn(\n",
      "/home/bea/karinna/SpatialScaper/spatialscaper/core.py:307: UserWarning: Could not find a start time for sound event \"datasets/sound_event_datasets/FSD50K_FMA/bell/train/Bicycle_bell/78985.wav\" that satisfies max_event_overlap = 2. If this continues happening, you may want to consider adding less sound events to the scape or increasing max_event_overlap.\n",
      "  warnings.warn(\n",
      "/home/bea/karinna/SpatialScaper/spatialscaper/core.py:307: UserWarning: Could not find a start time for sound event \"datasets/sound_event_datasets/FSD50K_FMA/telephone/train/Telephone_bell_ringing/275053.wav\" that satisfies max_event_overlap = 2. If this continues happening, you may want to consider adding less sound events to the scape or increasing max_event_overlap.\n",
      "  warnings.warn(\n",
      "/home/bea/karinna/SpatialScaper/spatialscaper/core.py:307: UserWarning: Could not find a start time for sound event \"datasets/sound_event_datasets/FSD50K_FMA/bell/train/Doorbell/196376.wav\" that satisfies max_event_overlap = 2. If this continues happening, you may want to consider adding less sound events to the scape or increasing max_event_overlap.\n",
      "  warnings.warn(\n"
     ]
    },
    {
     "name": "stdout",
     "output_type": "stream",
     "text": [
      "Generating soundscape: 11/20\n",
      "Number of events to add: 21\n",
      "Adding event 1/21\n",
      "Adding event 2/21\n",
      "Adding event 3/21\n",
      "Adding event 4/21\n",
      "Adding event 5/21\n",
      "Adding event 6/21\n",
      "Adding event 7/21\n",
      "Adding event 8/21\n",
      "Adding event 9/21\n",
      "Adding event 10/21\n",
      "Adding event 11/21\n",
      "Adding event 12/21\n",
      "Adding event 13/21\n",
      "Adding event 14/21\n",
      "Adding event 15/21\n"
     ]
    },
    {
     "name": "stderr",
     "output_type": "stream",
     "text": [
      "/home/bea/karinna/SpatialScaper/spatialscaper/core.py:307: UserWarning: Could not find a start time for sound event \"datasets/sound_event_datasets/FSD50K_FMA/waterTap/train/Water_tap_and_faucet/371616.wav\" that satisfies max_event_overlap = 2. If this continues happening, you may want to consider adding less sound events to the scape or increasing max_event_overlap.\n",
      "  warnings.warn(\n",
      "/home/bea/karinna/SpatialScaper/spatialscaper/core.py:307: UserWarning: Could not find a start time for sound event \"datasets/sound_event_datasets/FSD50K_FMA/footsteps/train/Walk_and_footsteps/85132.wav\" that satisfies max_event_overlap = 2. If this continues happening, you may want to consider adding less sound events to the scape or increasing max_event_overlap.\n",
      "  warnings.warn(\n"
     ]
    },
    {
     "name": "stdout",
     "output_type": "stream",
     "text": [
      "Adding event 16/21\n",
      "Adding event 17/21\n",
      "Adding event 18/21\n",
      "Adding event 19/21\n",
      "Adding event 20/21\n",
      "Adding event 21/21\n"
     ]
    },
    {
     "name": "stderr",
     "output_type": "stream",
     "text": [
      "/home/bea/karinna/SpatialScaper/spatialscaper/core.py:307: UserWarning: Could not find a start time for sound event \"datasets/sound_event_datasets/FSD50K_FMA/footsteps/train/Walk_and_footsteps/148796.wav\" that satisfies max_event_overlap = 2. If this continues happening, you may want to consider adding less sound events to the scape or increasing max_event_overlap.\n",
      "  warnings.warn(\n",
      "/home/bea/karinna/SpatialScaper/spatialscaper/core.py:307: UserWarning: Could not find a start time for sound event \"datasets/sound_event_datasets/FSD50K_FMA/footsteps/train/Walk_and_footsteps/259697.wav\" that satisfies max_event_overlap = 2. If this continues happening, you may want to consider adding less sound events to the scape or increasing max_event_overlap.\n",
      "  warnings.warn(\n",
      "/home/bea/karinna/SpatialScaper/spatialscaper/core.py:307: UserWarning: Could not find a start time for sound event \"datasets/sound_event_datasets/FSD50K_FMA/musicInstrument/train/Acoustic_guitar/57864.wav\" that satisfies max_event_overlap = 2. If this continues happening, you may want to consider adding less sound events to the scape or increasing max_event_overlap.\n",
      "  warnings.warn(\n",
      "/home/bea/karinna/SpatialScaper/spatialscaper/core.py:307: UserWarning: Could not find a start time for sound event \"datasets/sound_event_datasets/FSD50K_FMA/laughter/train/Laughter/170332.wav\" that satisfies max_event_overlap = 2. If this continues happening, you may want to consider adding less sound events to the scape or increasing max_event_overlap.\n",
      "  warnings.warn(\n",
      "/home/bea/karinna/SpatialScaper/spatialscaper/core.py:307: UserWarning: Could not find a start time for sound event \"datasets/sound_event_datasets/FSD50K_FMA/bell/train/Doorbell/196374.wav\" that satisfies max_event_overlap = 2. If this continues happening, you may want to consider adding less sound events to the scape or increasing max_event_overlap.\n",
      "  warnings.warn(\n",
      "/home/bea/karinna/SpatialScaper/spatialscaper/core.py:307: UserWarning: Could not find a start time for sound event \"datasets/sound_event_datasets/FSD50K_FMA/domesticSounds/train/Boiling/65254.wav\" that satisfies max_event_overlap = 2. If this continues happening, you may want to consider adding less sound events to the scape or increasing max_event_overlap.\n",
      "  warnings.warn(\n",
      "/home/bea/karinna/SpatialScaper/spatialscaper/core.py:307: UserWarning: Could not find a start time for sound event \"datasets/sound_event_datasets/FSD50K_FMA/telephone/test/Telephone_bell_ringing/118107.wav\" that satisfies max_event_overlap = 2. If this continues happening, you may want to consider adding less sound events to the scape or increasing max_event_overlap.\n",
      "  warnings.warn(\n",
      "/home/bea/karinna/SpatialScaper/spatialscaper/core.py:307: UserWarning: Could not find a start time for sound event \"datasets/sound_event_datasets/FSD50K_FMA/waterTap/test/Water_tap_and_faucet/153243.wav\" that satisfies max_event_overlap = 2. If this continues happening, you may want to consider adding less sound events to the scape or increasing max_event_overlap.\n",
      "  warnings.warn(\n",
      "/home/bea/karinna/SpatialScaper/spatialscaper/core.py:307: UserWarning: Could not find a start time for sound event \"datasets/sound_event_datasets/FSD50K_FMA/music/train/Folk/000203.mp3\" that satisfies max_event_overlap = 2. If this continues happening, you may want to consider adding less sound events to the scape or increasing max_event_overlap.\n",
      "  warnings.warn(\n",
      "/home/bea/karinna/SpatialScaper/spatialscaper/core.py:307: UserWarning: Could not find a start time for sound event \"datasets/sound_event_datasets/FSD50K_FMA/domesticSounds/train/Vacuum_cleaner/317444.wav\" that satisfies max_event_overlap = 2. If this continues happening, you may want to consider adding less sound events to the scape or increasing max_event_overlap.\n",
      "  warnings.warn(\n"
     ]
    },
    {
     "name": "stdout",
     "output_type": "stream",
     "text": [
      "Generating soundscape: 12/20\n",
      "Number of events to add: 16\n",
      "Adding event 1/16\n",
      "Adding event 2/16\n",
      "Adding event 3/16\n",
      "Adding event 4/16\n",
      "Adding event 5/16\n",
      "Adding event 6/16\n",
      "Adding event 7/16\n",
      "Adding event 8/16\n",
      "Adding event 9/16\n",
      "Adding event 10/16\n",
      "Adding event 11/16\n",
      "Adding event 12/16\n",
      "Adding event 13/16\n",
      "Adding event 14/16\n",
      "Adding event 15/16\n",
      "Adding event 16/16\n"
     ]
    },
    {
     "name": "stderr",
     "output_type": "stream",
     "text": [
      "/home/bea/karinna/SpatialScaper/spatialscaper/core.py:307: UserWarning: Could not find a start time for sound event \"datasets/sound_event_datasets/FSD50K_FMA/waterTap/train/Water_tap_and_faucet/185999.wav\" that satisfies max_event_overlap = 2. If this continues happening, you may want to consider adding less sound events to the scape or increasing max_event_overlap.\n",
      "  warnings.warn(\n",
      "/home/bea/karinna/SpatialScaper/spatialscaper/core.py:307: UserWarning: Could not find a start time for sound event \"datasets/sound_event_datasets/FSD50K_FMA/music/test/International/001688.mp3\" that satisfies max_event_overlap = 2. If this continues happening, you may want to consider adding less sound events to the scape or increasing max_event_overlap.\n",
      "  warnings.warn(\n",
      "/home/bea/karinna/SpatialScaper/spatialscaper/core.py:307: UserWarning: Could not find a start time for sound event \"datasets/sound_event_datasets/FSD50K_FMA/music/train/International/000704.mp3\" that satisfies max_event_overlap = 2. If this continues happening, you may want to consider adding less sound events to the scape or increasing max_event_overlap.\n",
      "  warnings.warn(\n"
     ]
    },
    {
     "name": "stdout",
     "output_type": "stream",
     "text": [
      "Generating soundscape: 13/20\n",
      "Number of events to add: 20\n",
      "Adding event 1/20\n",
      "Adding event 2/20\n",
      "Adding event 3/20\n",
      "Adding event 4/20\n",
      "Adding event 5/20\n",
      "Adding event 6/20\n",
      "Adding event 7/20\n",
      "Adding event 8/20\n",
      "Adding event 9/20\n",
      "Adding event 10/20\n",
      "Adding event 11/20\n",
      "Adding event 12/20\n",
      "Adding event 13/20\n",
      "Adding event 14/20\n",
      "Adding event 15/20\n",
      "Adding event 16/20\n",
      "Adding event 17/20\n",
      "Adding event 18/20\n"
     ]
    },
    {
     "name": "stderr",
     "output_type": "stream",
     "text": [
      "/home/bea/karinna/SpatialScaper/spatialscaper/core.py:307: UserWarning: Could not find a start time for sound event \"datasets/sound_event_datasets/FSD50K_FMA/telephone/train/Ringtone/351711.wav\" that satisfies max_event_overlap = 2. If this continues happening, you may want to consider adding less sound events to the scape or increasing max_event_overlap.\n",
      "  warnings.warn(\n",
      "/home/bea/karinna/SpatialScaper/spatialscaper/core.py:307: UserWarning: Could not find a start time for sound event \"datasets/sound_event_datasets/FSD50K_FMA/domesticSounds/train/Vacuum_cleaner/269466.wav\" that satisfies max_event_overlap = 2. If this continues happening, you may want to consider adding less sound events to the scape or increasing max_event_overlap.\n",
      "  warnings.warn(\n",
      "/home/bea/karinna/SpatialScaper/spatialscaper/core.py:307: UserWarning: Could not find a start time for sound event \"datasets/sound_event_datasets/FSD50K_FMA/domesticSounds/test/Mechanical_fan/392983.wav\" that satisfies max_event_overlap = 2. If this continues happening, you may want to consider adding less sound events to the scape or increasing max_event_overlap.\n",
      "  warnings.warn(\n",
      "/home/bea/karinna/SpatialScaper/spatialscaper/core.py:307: UserWarning: Could not find a start time for sound event \"datasets/sound_event_datasets/FSD50K_FMA/waterTap/train/Water_tap_and_faucet/168007.wav\" that satisfies max_event_overlap = 2. If this continues happening, you may want to consider adding less sound events to the scape or increasing max_event_overlap.\n",
      "  warnings.warn(\n",
      "/home/bea/karinna/SpatialScaper/spatialscaper/core.py:307: UserWarning: Could not find a start time for sound event \"datasets/sound_event_datasets/FSD50K_FMA/domesticSounds/train/Vacuum_cleaner/352272.wav\" that satisfies max_event_overlap = 2. If this continues happening, you may want to consider adding less sound events to the scape or increasing max_event_overlap.\n",
      "  warnings.warn(\n",
      "/home/bea/karinna/SpatialScaper/spatialscaper/core.py:307: UserWarning: Could not find a start time for sound event \"datasets/sound_event_datasets/FSD50K_FMA/music/train/Hip-Hop/006603.mp3\" that satisfies max_event_overlap = 2. If this continues happening, you may want to consider adding less sound events to the scape or increasing max_event_overlap.\n",
      "  warnings.warn(\n",
      "/home/bea/karinna/SpatialScaper/spatialscaper/core.py:307: UserWarning: Could not find a start time for sound event \"datasets/sound_event_datasets/FSD50K_FMA/telephone/train/Ringtone/386782.wav\" that satisfies max_event_overlap = 2. If this continues happening, you may want to consider adding less sound events to the scape or increasing max_event_overlap.\n",
      "  warnings.warn(\n",
      "/home/bea/karinna/SpatialScaper/spatialscaper/core.py:307: UserWarning: Could not find a start time for sound event \"datasets/sound_event_datasets/FSD50K_FMA/doorCupboard/test/Door/119834.wav\" that satisfies max_event_overlap = 2. If this continues happening, you may want to consider adding less sound events to the scape or increasing max_event_overlap.\n",
      "  warnings.warn(\n",
      "/home/bea/karinna/SpatialScaper/spatialscaper/core.py:307: UserWarning: Could not find a start time for sound event \"datasets/sound_event_datasets/FSD50K_FMA/musicInstrument/train/Cowbell/90546.wav\" that satisfies max_event_overlap = 2. If this continues happening, you may want to consider adding less sound events to the scape or increasing max_event_overlap.\n",
      "  warnings.warn(\n"
     ]
    },
    {
     "name": "stdout",
     "output_type": "stream",
     "text": [
      "Adding event 19/20\n",
      "Adding event 20/20\n",
      "Generating soundscape: 14/20\n",
      "Number of events to add: 19\n",
      "Adding event 1/19\n",
      "Adding event 2/19\n",
      "Adding event 3/19\n",
      "Adding event 4/19\n",
      "Adding event 5/19\n",
      "Adding event 6/19\n",
      "Adding event 7/19\n",
      "Adding event 8/19\n",
      "Adding event 9/19\n",
      "Adding event 10/19\n",
      "Adding event 11/19\n",
      "Adding event 12/19\n",
      "Adding event 13/19\n",
      "Adding event 14/19\n",
      "Adding event 15/19\n",
      "Adding event 16/19\n",
      "Adding event 17/19\n",
      "Adding event 18/19\n",
      "Adding event 19/19\n"
     ]
    },
    {
     "name": "stderr",
     "output_type": "stream",
     "text": [
      "/home/bea/karinna/SpatialScaper/spatialscaper/core.py:307: UserWarning: Could not find a start time for sound event \"datasets/sound_event_datasets/FSD50K_FMA/footsteps/train/Walk_and_footsteps/276682.wav\" that satisfies max_event_overlap = 2. If this continues happening, you may want to consider adding less sound events to the scape or increasing max_event_overlap.\n",
      "  warnings.warn(\n"
     ]
    },
    {
     "name": "stdout",
     "output_type": "stream",
     "text": [
      "Generating soundscape: 15/20\n",
      "Number of events to add: 14\n",
      "Adding event 1/14\n",
      "Adding event 2/14\n",
      "Adding event 3/14\n",
      "Adding event 4/14\n",
      "Adding event 5/14\n",
      "Adding event 6/14\n",
      "Adding event 7/14\n",
      "Adding event 8/14\n",
      "Adding event 9/14\n",
      "Adding event 10/14\n",
      "Adding event 11/14\n",
      "Adding event 12/14\n",
      "Adding event 13/14\n",
      "Adding event 14/14\n"
     ]
    },
    {
     "name": "stderr",
     "output_type": "stream",
     "text": [
      "/home/bea/karinna/SpatialScaper/spatialscaper/core.py:307: UserWarning: Could not find a start time for sound event \"datasets/sound_event_datasets/FSD50K_FMA/laughter/train/Laughter/36939.wav\" that satisfies max_event_overlap = 2. If this continues happening, you may want to consider adding less sound events to the scape or increasing max_event_overlap.\n",
      "  warnings.warn(\n"
     ]
    },
    {
     "name": "stdout",
     "output_type": "stream",
     "text": [
      "Generating soundscape: 16/20\n",
      "Number of events to add: 14\n",
      "Adding event 1/14\n",
      "Adding event 2/14\n",
      "Adding event 3/14\n",
      "Adding event 4/14\n",
      "Adding event 5/14\n",
      "Adding event 6/14\n",
      "Adding event 7/14\n",
      "Adding event 8/14\n",
      "Adding event 9/14\n",
      "Adding event 10/14\n",
      "Adding event 11/14\n",
      "Adding event 12/14\n",
      "Adding event 13/14\n",
      "Adding event 14/14\n"
     ]
    },
    {
     "name": "stderr",
     "output_type": "stream",
     "text": [
      "/home/bea/karinna/SpatialScaper/spatialscaper/core.py:307: UserWarning: Could not find a start time for sound event \"datasets/sound_event_datasets/FSD50K_FMA/waterTap/train/Water_tap_and_faucet/156112.wav\" that satisfies max_event_overlap = 2. If this continues happening, you may want to consider adding less sound events to the scape or increasing max_event_overlap.\n",
      "  warnings.warn(\n",
      "/home/bea/karinna/SpatialScaper/spatialscaper/core.py:307: UserWarning: Could not find a start time for sound event \"datasets/sound_event_datasets/FSD50K_FMA/domesticSounds/train/Boiling/16584.wav\" that satisfies max_event_overlap = 2. If this continues happening, you may want to consider adding less sound events to the scape or increasing max_event_overlap.\n",
      "  warnings.warn(\n",
      "/home/bea/karinna/SpatialScaper/spatialscaper/core.py:307: UserWarning: Could not find a start time for sound event \"datasets/sound_event_datasets/FSD50K_FMA/telephone/train/Telephone_bell_ringing/26834.wav\" that satisfies max_event_overlap = 2. If this continues happening, you may want to consider adding less sound events to the scape or increasing max_event_overlap.\n",
      "  warnings.warn(\n",
      "/home/bea/karinna/SpatialScaper/spatialscaper/core.py:307: UserWarning: Could not find a start time for sound event \"datasets/sound_event_datasets/FSD50K_FMA/doorCupboard/train/Door/107117.wav\" that satisfies max_event_overlap = 2. If this continues happening, you may want to consider adding less sound events to the scape or increasing max_event_overlap.\n",
      "  warnings.warn(\n"
     ]
    },
    {
     "name": "stdout",
     "output_type": "stream",
     "text": [
      "Generating soundscape: 17/20\n",
      "Number of events to add: 17\n",
      "Adding event 1/17\n",
      "Adding event 2/17\n",
      "Adding event 3/17\n",
      "Adding event 4/17\n",
      "Adding event 5/17\n",
      "Adding event 6/17\n",
      "Adding event 7/17\n",
      "Adding event 8/17\n",
      "Adding event 9/17\n",
      "Adding event 10/17\n",
      "Adding event 11/17\n",
      "Adding event 12/17\n",
      "Adding event 13/17\n",
      "Adding event 14/17\n",
      "Adding event 15/17\n",
      "Adding event 16/17\n",
      "Adding event 17/17\n"
     ]
    },
    {
     "name": "stderr",
     "output_type": "stream",
     "text": [
      "/home/bea/karinna/SpatialScaper/spatialscaper/core.py:307: UserWarning: Could not find a start time for sound event \"datasets/sound_event_datasets/FSD50K_FMA/music/test/Rock/001270.mp3\" that satisfies max_event_overlap = 2. If this continues happening, you may want to consider adding less sound events to the scape or increasing max_event_overlap.\n",
      "  warnings.warn(\n",
      "/home/bea/karinna/SpatialScaper/spatialscaper/core.py:307: UserWarning: Could not find a start time for sound event \"datasets/sound_event_datasets/FSD50K_FMA/telephone/train/Ringtone/108797.wav\" that satisfies max_event_overlap = 2. If this continues happening, you may want to consider adding less sound events to the scape or increasing max_event_overlap.\n",
      "  warnings.warn(\n"
     ]
    },
    {
     "name": "stdout",
     "output_type": "stream",
     "text": [
      "Generating soundscape: 18/20\n",
      "Number of events to add: 14\n",
      "Adding event 1/14\n",
      "Adding event 2/14\n",
      "Adding event 3/14\n",
      "Adding event 4/14\n",
      "Adding event 5/14\n",
      "Adding event 6/14\n",
      "Adding event 7/14\n",
      "Adding event 8/14\n",
      "Adding event 9/14\n",
      "Adding event 10/14\n",
      "Adding event 11/14\n",
      "Adding event 12/14\n",
      "Adding event 13/14\n",
      "Adding event 14/14\n",
      "Generating soundscape: 19/20\n",
      "Number of events to add: 20\n",
      "Adding event 1/20\n",
      "Adding event 2/20\n",
      "Adding event 3/20\n",
      "Adding event 4/20\n",
      "Adding event 5/20\n",
      "Adding event 6/20\n",
      "Adding event 7/20\n",
      "Adding event 8/20\n",
      "Adding event 9/20\n",
      "Adding event 10/20\n",
      "Adding event 11/20\n",
      "Adding event 12/20\n",
      "Adding event 13/20\n",
      "Adding event 14/20\n"
     ]
    },
    {
     "name": "stderr",
     "output_type": "stream",
     "text": [
      "/home/bea/karinna/SpatialScaper/spatialscaper/core.py:307: UserWarning: Could not find a start time for sound event \"datasets/sound_event_datasets/FSD50K_FMA/bell/test/Bicycle_bell/32321.wav\" that satisfies max_event_overlap = 2. If this continues happening, you may want to consider adding less sound events to the scape or increasing max_event_overlap.\n",
      "  warnings.warn(\n",
      "/home/bea/karinna/SpatialScaper/spatialscaper/core.py:307: UserWarning: Could not find a start time for sound event \"datasets/sound_event_datasets/FSD50K_FMA/telephone/test/Telephone_bell_ringing/406235.wav\" that satisfies max_event_overlap = 2. If this continues happening, you may want to consider adding less sound events to the scape or increasing max_event_overlap.\n",
      "  warnings.warn(\n",
      "/home/bea/karinna/SpatialScaper/spatialscaper/core.py:307: UserWarning: Could not find a start time for sound event \"datasets/sound_event_datasets/FSD50K_FMA/music/train/Rock/000368.mp3\" that satisfies max_event_overlap = 2. If this continues happening, you may want to consider adding less sound events to the scape or increasing max_event_overlap.\n",
      "  warnings.warn(\n",
      "/home/bea/karinna/SpatialScaper/spatialscaper/core.py:307: UserWarning: Could not find a start time for sound event \"datasets/sound_event_datasets/FSD50K_FMA/domesticSounds/train/Vacuum_cleaner/46744.wav\" that satisfies max_event_overlap = 2. If this continues happening, you may want to consider adding less sound events to the scape or increasing max_event_overlap.\n",
      "  warnings.warn(\n"
     ]
    },
    {
     "name": "stdout",
     "output_type": "stream",
     "text": [
      "Adding event 15/20\n",
      "Adding event 16/20\n",
      "Adding event 17/20\n",
      "Adding event 18/20\n",
      "Adding event 19/20\n"
     ]
    },
    {
     "name": "stderr",
     "output_type": "stream",
     "text": [
      "/home/bea/karinna/SpatialScaper/spatialscaper/core.py:307: UserWarning: Could not find a start time for sound event \"datasets/sound_event_datasets/FSD50K_FMA/domesticSounds/train/Mechanical_fan/372548.wav\" that satisfies max_event_overlap = 2. If this continues happening, you may want to consider adding less sound events to the scape or increasing max_event_overlap.\n",
      "  warnings.warn(\n",
      "/home/bea/karinna/SpatialScaper/spatialscaper/core.py:307: UserWarning: Could not find a start time for sound event \"datasets/sound_event_datasets/FSD50K_FMA/clapping/train/Clapping/365616.wav\" that satisfies max_event_overlap = 2. If this continues happening, you may want to consider adding less sound events to the scape or increasing max_event_overlap.\n",
      "  warnings.warn(\n",
      "/home/bea/karinna/SpatialScaper/spatialscaper/core.py:307: UserWarning: Could not find a start time for sound event \"datasets/sound_event_datasets/FSD50K_FMA/footsteps/test/Walk_and_footsteps/391920.wav\" that satisfies max_event_overlap = 2. If this continues happening, you may want to consider adding less sound events to the scape or increasing max_event_overlap.\n",
      "  warnings.warn(\n",
      "/home/bea/karinna/SpatialScaper/spatialscaper/core.py:307: UserWarning: Could not find a start time for sound event \"datasets/sound_event_datasets/FSD50K_FMA/knock/train/Knock/349302.wav\" that satisfies max_event_overlap = 2. If this continues happening, you may want to consider adding less sound events to the scape or increasing max_event_overlap.\n",
      "  warnings.warn(\n"
     ]
    },
    {
     "name": "stdout",
     "output_type": "stream",
     "text": [
      "Adding event 20/20\n",
      "Generating soundscape: 20/20\n",
      "Number of events to add: 14\n",
      "Adding event 1/14\n",
      "Adding event 2/14\n",
      "Adding event 3/14\n",
      "Adding event 4/14\n",
      "Adding event 5/14\n",
      "Adding event 6/14\n",
      "Adding event 7/14\n",
      "Adding event 8/14\n",
      "Adding event 9/14\n",
      "Adding event 10/14\n",
      "Adding event 11/14\n",
      "Adding event 12/14\n",
      "Adding event 13/14\n",
      "Adding event 14/14\n"
     ]
    }
   ],
   "source": [
    "NSCAPES = 20  # number of soundscapes to generate\n",
    "FOREGROUND_DIR = \"datasets/sound_event_datasets/FSD50K_FMA\"  # directory with FSD50K foreground sound files\n",
    "RIR_DIR = \"datasets/rir_datasets\"  # directory containing Room Impulse Response (RIR) files\n",
    "ROOM = \"soundspaces_shoebox\" \n",
    "FORMAT = \"foa\"  # output format specifier: could be 'mic' or 'foa'\n",
    "N_EVENTS_MEAN = 15  # mean number of foreground events in a soundscape\n",
    "N_EVENTS_STD = 6  # standard deviation of the number of foreground events\n",
    "DURATION = 60.0  # duration in seconds of each soundscape\n",
    "SR = 24000  # SpatialScaper default sampling rate for the audio files\n",
    "OUTPUT_DIR = \"output\"  # Directory to store the generated soundscapes\n",
    "REF_DB = (-65)  # Reference decibel level for the background ambient noise. Try making this random too!\n",
    "\n",
    "os.makedirs(OUTPUT_DIR, exist_ok=True)\n",
    "os.makedirs(os.path.join(OUTPUT_DIR, FORMAT), exist_ok=True)\n",
    "os.makedirs(os.path.join(OUTPUT_DIR, \"labels\"), exist_ok=True)\n",
    "\n",
    "def generate_soundscape(index):\n",
    "    print(f\"Generating soundscape: {index + 1}/{NSCAPES}\") \n",
    "    track_name = f\"fold1_room1_mix{index+1:03d}\"\n",
    "    ssc = ss.Scaper(\n",
    "        DURATION,\n",
    "        FOREGROUND_DIR,\n",
    "        RIR_DIR,\n",
    "        FORMAT,\n",
    "        ROOM,\n",
    "        max_event_overlap=2,\n",
    "        speed_limit=2.0,\n",
    "    )\n",
    "    ssc.ref_db = REF_DB\n",
    "    ssc.add_background()\n",
    "\n",
    "    # Add a random number of foreground events, based on the specified mean and standard deviation.\n",
    "    n_events = int(np.random.normal(N_EVENTS_MEAN, N_EVENTS_STD))\n",
    "    n_events = n_events if n_events > 0 else 1\n",
    "    print(f\"Number of events to add: {n_events}\")\n",
    "    for i in range(n_events):\n",
    "        print(f\"Adding event {i + 1}/{n_events}\") \n",
    "        ssc.add_event()  # randomly choosing and spatializing an FSD50K sound event\n",
    "\n",
    "    audiofile = os.path.join(OUTPUT_DIR, FORMAT, track_name)\n",
    "    labelfile = os.path.join(OUTPUT_DIR, \"labels\", track_name)\n",
    "    ssc.generate(audiofile, labelfile)\n",
    "\n",
    "for iscape in range(NSCAPES):\n",
    "    generate_soundscape(iscape)"
   ]
  },
  {
   "cell_type": "code",
   "execution_count": 26,
   "id": "f091c56c-a97d-4d0d-bc6a-41a14a77a624",
   "metadata": {},
   "outputs": [
    {
     "name": "stdout",
     "output_type": "stream",
     "text": [
      "  adding: labels/ (stored 0%)\n",
      "  adding: labels/fold1_room1_mix016.csv (deflated 83%)\n",
      "  adding: labels/fold1_room1_mix014.csv (deflated 73%)\n",
      "  adding: labels/fold1_room1_mix012.csv (deflated 80%)\n",
      "  adding: labels/fold1_room1_mix008.csv (deflated 76%)\n",
      "  adding: labels/fold1_room1_mix011.csv (deflated 77%)\n",
      "  adding: labels/fold1_room1_mix018.csv (deflated 78%)\n",
      "  adding: labels/fold1_room1_mix009.csv (deflated 84%)\n",
      "  adding: labels/fold1_room1_mix001.csv (deflated 80%)\n",
      "  adding: labels/fold1_room1_mix004.csv (deflated 76%)\n",
      "  adding: labels/fold1_room1_mix005.csv (deflated 77%)\n",
      "  adding: labels/fold1_room1_mix015.csv (deflated 75%)\n",
      "  adding: labels/fold1_room1_mix017.csv (deflated 81%)\n",
      "  adding: labels/fold1_room1_mix013.csv (deflated 76%)\n",
      "  adding: labels/fold1_room1_mix020.csv (deflated 85%)\n",
      "  adding: labels/fold1_room1_mix019.csv (deflated 80%)\n",
      "  adding: labels/.ipynb_checkpoints/ (stored 0%)\n",
      "  adding: labels/fold1_room1_mix003.csv (deflated 78%)\n",
      "  adding: labels/fold1_room1_mix007.csv (deflated 81%)\n",
      "  adding: labels/fold1_room1_mix002.csv (deflated 85%)\n",
      "  adding: labels/fold1_room1_mix010.csv (deflated 77%)\n",
      "  adding: labels/fold1_room1_mix006.csv (deflated 75%)\n"
     ]
    }
   ],
   "source": [
    "!zip -r labels.zip labels"
   ]
  },
  {
   "cell_type": "code",
   "execution_count": null,
   "id": "9113f796-78a5-4a16-9dbe-456138399089",
   "metadata": {},
   "outputs": [],
   "source": []
  }
 ],
 "metadata": {
  "kernelspec": {
   "display_name": "sscaper",
   "language": "python",
   "name": "sscaper"
  },
  "language_info": {
   "codemirror_mode": {
    "name": "ipython",
    "version": 3
   },
   "file_extension": ".py",
   "mimetype": "text/x-python",
   "name": "python",
   "nbconvert_exporter": "python",
   "pygments_lexer": "ipython3",
   "version": "3.9.19"
  }
 },
 "nbformat": 4,
 "nbformat_minor": 5
}
