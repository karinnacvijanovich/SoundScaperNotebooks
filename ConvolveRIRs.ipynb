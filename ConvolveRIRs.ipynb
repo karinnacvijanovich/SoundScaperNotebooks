{
 "cells": [
  {
   "cell_type": "code",
   "execution_count": null,
   "id": "aba2d8ff-54bd-4385-b76f-f2d50e0cb742",
   "metadata": {},
   "outputs": [],
   "source": [
    "!python scripts/prepare_rirs.py"
   ]
  },
  {
   "cell_type": "code",
   "execution_count": 20,
   "id": "8c5e31ca-0e16-4208-95e0-01b61c06bf75",
   "metadata": {},
   "outputs": [],
   "source": [
    "import pysofaconventions as sofa\n",
    "import numpy as np\n",
    "import os\n",
    "import spatialscaper as ss"
   ]
  },
  {
   "cell_type": "code",
   "execution_count": null,
   "id": "14b195bd-b631-4c7f-ace4-89c2b5b0263e",
   "metadata": {
    "scrolled": true
   },
   "outputs": [],
   "source": [
    "NSCAPES = 20  # number of soundscapes to generate\n",
    "FOREGROUND_DIR = \"datasets/sound_event_datasets/FSD50K_FMA\"  # directory with FSD50K foreground sound files\n",
    "RIR_DIR = \"datasets/rir_datasets\"  # directory containing Room Impulse Response (RIR) files\n",
    "ROOM = \"soundspaces_shoebox\" \n",
    "FORMAT = \"foa\"  # output format specifier: could be 'mic' or 'foa'\n",
    "N_EVENTS_MEAN = 15  # mean number of foreground events in a soundscape\n",
    "N_EVENTS_STD = 6  # standard deviation of the number of foreground events\n",
    "DURATION = 60.0  # duration in seconds of each soundscape\n",
    "SR = 24000  # SpatialScaper default sampling rate for the audio files\n",
    "OUTPUT_DIR = \"output\"  # Directory to store the generated soundscapes\n",
    "REF_DB = (-65)  # Reference decibel level for the background ambient noise. Try making this random too!\n",
    "\n",
    "os.makedirs(OUTPUT_DIR, exist_ok=True)\n",
    "os.makedirs(os.path.join(OUTPUT_DIR, FORMAT), exist_ok=True)\n",
    "os.makedirs(os.path.join(OUTPUT_DIR, \"labels\"), exist_ok=True)\n",
    "\n",
    "def generate_soundscape(index):\n",
    "    print(f\"Generating soundscape: {index + 1}/{NSCAPES}\") \n",
    "    track_name = f\"fold1_room1_mix{index+1:03d}\"\n",
    "    ssc = ss.Scaper(\n",
    "        DURATION,\n",
    "        FOREGROUND_DIR,\n",
    "        RIR_DIR,\n",
    "        FORMAT,\n",
    "        ROOM,\n",
    "        max_event_overlap=2,\n",
    "        speed_limit=2.0,\n",
    "    )\n",
    "    ssc.ref_db = REF_DB\n",
    "    ssc.add_background()\n",
    "\n",
    "    # Add a random number of foreground events, based on the specified mean and standard deviation.\n",
    "    n_events = int(np.random.normal(N_EVENTS_MEAN, N_EVENTS_STD))\n",
    "    n_events = n_events if n_events > 0 else 1\n",
    "    print(f\"Number of events to add: {n_events}\")\n",
    "    for i in range(n_events):\n",
    "        print(f\"Adding event {i + 1}/{n_events}\") \n",
    "        ssc.add_event()  # randomly choosing and spatializing an FSD50K sound event\n",
    "\n",
    "    audiofile = os.path.join(OUTPUT_DIR, FORMAT, track_name)\n",
    "    labelfile = os.path.join(OUTPUT_DIR, \"labels\", track_name)\n",
    "    ssc.generate(audiofile, labelfile)\n",
    "\n",
    "for iscape in range(NSCAPES):\n",
    "    generate_soundscape(iscape)"
   ]
  }
 ],
 "metadata": {
  "kernelspec": {
   "display_name": "sscaper",
   "language": "python",
   "name": "sscaper"
  },
  "language_info": {
   "codemirror_mode": {
    "name": "ipython",
    "version": 3
   },
   "file_extension": ".py",
   "mimetype": "text/x-python",
   "name": "python",
   "nbconvert_exporter": "python",
   "pygments_lexer": "ipython3",
   "version": "3.9.19"
  }
 },
 "nbformat": 4,
 "nbformat_minor": 5
}
