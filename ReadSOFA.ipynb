{
 "cells": [
  {
   "cell_type": "markdown",
   "id": "894f8190-e2db-4fb4-b6a0-781552a6f95f",
   "metadata": {},
   "source": [
    "### Reads RIR data from SOFA files and saves selected RIRs as individual WAV files. "
   ]
  },
  {
   "cell_type": "code",
   "execution_count": 2,
   "id": "833b4c9e-37fe-4c51-922c-f20b9cd00310",
   "metadata": {},
   "outputs": [
    {
     "name": "stdout",
     "output_type": "stream",
     "text": [
      "Shape of RIR data: (96000,)\n"
     ]
    }
   ],
   "source": [
    "import pysofaconventions as pysofa\n",
    "import numpy as np\n",
    "import matplotlib.pyplot as plt\n",
    "from scipy.io import wavfile\n",
    "\n",
    "sample_rate, rir = wavfile.read('datasets/rir_datasets/source_data/spargair/alctron/010.wav')\n",
    "print(\"Shape of RIR data:\", rir.shape)"
   ]
  },
  {
   "cell_type": "code",
   "execution_count": 3,
   "id": "17d08c7b-347d-47cf-a9cc-b7b451c0eaf2",
   "metadata": {
    "scrolled": true
   },
   "outputs": [
    {
     "name": "stdout",
     "output_type": "stream",
     "text": [
      "RIR 1: [ 2.79932658e+00 -6.73415685e-04 -6.73415685e-04]\n",
      "RIR 2: [ 2.49987943e+00 -1.20568991e-04 -1.20568991e-04]\n",
      "RIR 3: [ 2.49953362e+00 -4.66377376e-04 -4.66377376e-04]\n",
      "RIR 4: [2.80050547e+00 5.05466739e-04 5.05466739e-04]\n",
      "RIR 5: [ 2.79986928e+00 -1.30724075e-04 -1.30724075e-04]\n",
      "RIR 6: [2.50037728e+00 3.77279248e-04 3.77279248e-04]\n",
      "RIR 7: [2.50014636e+00 1.46364769e-04 1.46364769e-04]\n",
      "RIR 8: [2.80019066e+00 1.90664154e-04 1.90664154e-04]\n",
      "RIR 9: [2.50022927e+00 2.29266230e-04 2.29266230e-04]\n",
      "RIR 10: [2.80092775e+00 9.27753384e-04 9.27753384e-04]\n"
     ]
    }
   ],
   "source": [
    "from spatialscaper import sofa_utils\n",
    "sofa_file_path = 'datasets/rir_datasets/spatialscaper_RIRs/daga-drir-room_mic.sofa'\n",
    "load_rirs = sofa_utils.load_rir(sofa_file_path)\n",
    "load_doa = sofa_utils.load_pos(sofa_file_path)\n",
    "load_pos_abs = sofa_utils.load_pos(sofa_file_path, doas=False)\n",
    "for idx, pos in enumerate(load_pos_abs):\n",
    "    print(f\"RIR {idx + 1}: {pos}\")"
   ]
  },
  {
   "cell_type": "code",
   "execution_count": 4,
   "id": "d83d8758-b885-4934-8b18-9a6ad6cc1458",
   "metadata": {},
   "outputs": [
    {
     "name": "stdout",
     "output_type": "stream",
     "text": [
      "Selected RIR 1 saved to selected_rir1.wav\n",
      "Selected RIR 2 saved to selected_rir2.wav\n",
      "Selected RIR 3 saved to selected_rir3.wav\n",
      "Selected RIR 3 saved to selected_rir4.wav\n"
     ]
    }
   ],
   "source": [
    "import soundfile as sf\n",
    "sofa_file_path = 'datasets/rir_datasets/spatialscaper_RIRs/metu_sparg_foa.sofa'\n",
    "selected_rir1 = load_rirs[101]\n",
    "selected_rir2 = load_rirs[201]\n",
    "selected_rir3 = load_rirs[142]\n",
    "selected_rir4 = load_rirs[190]\n",
    "output_wav_file1 = 'selected_rir1.wav'\n",
    "output_wav_file2 = 'selected_rir2.wav'\n",
    "output_wav_file3 = 'selected_rir3.wav'\n",
    "output_wav_file4 = 'selected_rir4.wav'\n",
    "sf.write(output_wav_file1, selected_rir1.T, 48000, format='WAV')\n",
    "print(f\"Selected RIR 1 saved to {output_wav_file1}\")\n",
    "sf.write(output_wav_file2, selected_rir2.T, 48000, format='WAV')\n",
    "print(f\"Selected RIR 2 saved to {output_wav_file2}\")\n",
    "sf.write(output_wav_file3, selected_rir3.T, 48000, format='WAV')\n",
    "print(f\"Selected RIR 3 saved to {output_wav_file3}\")\n",
    "sf.write(output_wav_file4, selected_rir4.T, 48000, format='WAV')\n",
    "print(f\"Selected RIR 3 saved to {output_wav_file4}\")"
   ]
  }
 ],
 "metadata": {
  "kernelspec": {
   "display_name": "Python 3 (ipykernel)",
   "language": "python",
   "name": "python3"
  },
  "language_info": {
   "codemirror_mode": {
    "name": "ipython",
    "version": 3
   },
   "file_extension": ".py",
   "mimetype": "text/x-python",
   "name": "python",
   "nbconvert_exporter": "python",
   "pygments_lexer": "ipython3",
   "version": "3.9.19"
  }
 },
 "nbformat": 4,
 "nbformat_minor": 5
}
